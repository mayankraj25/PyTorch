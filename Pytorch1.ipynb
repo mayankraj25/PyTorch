{
  "nbformat": 4,
  "nbformat_minor": 0,
  "metadata": {
    "colab": {
      "provenance": [],
      "authorship_tag": "ABX9TyPBTHCbBV4zMoXFroQfe2cm",
      "include_colab_link": true
    },
    "kernelspec": {
      "name": "python3",
      "display_name": "Python 3"
    },
    "language_info": {
      "name": "python"
    }
  },
  "cells": [
    {
      "cell_type": "markdown",
      "metadata": {
        "id": "view-in-github",
        "colab_type": "text"
      },
      "source": [
        "<a href=\"https://colab.research.google.com/github/mayankraj25/PyTorch/blob/main/Pytorch1.ipynb\" target=\"_parent\"><img src=\"https://colab.research.google.com/assets/colab-badge.svg\" alt=\"Open In Colab\"/></a>"
      ]
    },
    {
      "cell_type": "code",
      "execution_count": 1,
      "metadata": {
        "id": "7YD3NEswjExI"
      },
      "outputs": [],
      "source": [
        "import torch"
      ]
    },
    {
      "cell_type": "code",
      "source": [
        "#Number(float)\n",
        "t1=torch.tensor(4.)\n",
        "print(t1)\n",
        "\n",
        "#Vector\n",
        "t2=torch.tensor([1.,2,3,4]) #Tensor just stors a single type of datatype hence all of it turns to float\n",
        "print(t2)\n",
        "\n",
        "#Matrix\n",
        "t3=torch.tensor([[5.,6],[7,8],[9,10]])\n",
        "print(t3)\n",
        "\n",
        "#3D Array\n",
        "t4=torch.tensor([[[11,12,13],[13,14,15]],[[15,16,17],[17,18,19]]])\n",
        "print(t4)"
      ],
      "metadata": {
        "colab": {
          "base_uri": "https://localhost:8080/"
        },
        "id": "zanTZNFyjjMH",
        "outputId": "35b041a8-6249-4557-d217-18849d2706f8"
      },
      "execution_count": 2,
      "outputs": [
        {
          "output_type": "stream",
          "name": "stdout",
          "text": [
            "tensor(4.)\n",
            "tensor([1., 2., 3., 4.])\n",
            "tensor([[ 5.,  6.],\n",
            "        [ 7.,  8.],\n",
            "        [ 9., 10.]])\n",
            "tensor([[[11, 12, 13],\n",
            "         [13, 14, 15]],\n",
            "\n",
            "        [[15, 16, 17],\n",
            "         [17, 18, 19]]])\n"
          ]
        }
      ]
    },
    {
      "cell_type": "code",
      "source": [
        "print(t1.dtype)\n",
        "print(t2.dtype)\n",
        "print(t3.dtype)\n",
        "print(t4.dtype)"
      ],
      "metadata": {
        "colab": {
          "base_uri": "https://localhost:8080/"
        },
        "id": "4zdaYYSUmRaE",
        "outputId": "1dbc17b3-94ff-4075-bd31-f3facfb6d50e"
      },
      "execution_count": 3,
      "outputs": [
        {
          "output_type": "stream",
          "name": "stdout",
          "text": [
            "torch.float32\n",
            "torch.float32\n",
            "torch.float32\n",
            "torch.int64\n"
          ]
        }
      ]
    },
    {
      "cell_type": "code",
      "source": [
        "print(t1)\n",
        "print(t1.shape)\n",
        "print(t2)\n",
        "print(t2.shape)\n",
        "print(t3)\n",
        "print(t3.shape)\n",
        "print(t4)\n",
        "print(t4.shape)"
      ],
      "metadata": {
        "colab": {
          "base_uri": "https://localhost:8080/"
        },
        "id": "BmKwVmEgmVlV",
        "outputId": "2a05afb3-301a-438c-9ef5-b9132a26fc13"
      },
      "execution_count": 4,
      "outputs": [
        {
          "output_type": "stream",
          "name": "stdout",
          "text": [
            "tensor(4.)\n",
            "torch.Size([])\n",
            "tensor([1., 2., 3., 4.])\n",
            "torch.Size([4])\n",
            "tensor([[ 5.,  6.],\n",
            "        [ 7.,  8.],\n",
            "        [ 9., 10.]])\n",
            "torch.Size([3, 2])\n",
            "tensor([[[11, 12, 13],\n",
            "         [13, 14, 15]],\n",
            "\n",
            "        [[15, 16, 17],\n",
            "         [17, 18, 19]]])\n",
            "torch.Size([2, 2, 3])\n"
          ]
        }
      ]
    },
    {
      "cell_type": "code",
      "source": [
        "#Create Tensors\n",
        "x=torch.tensor(3.)\n",
        "w=torch.tensor(4.,requires_grad=True)\n",
        "b=torch.tensor(5.,requires_grad=True)\n",
        "\n",
        "#Arithematic operation\n",
        "y=w*x+b\n",
        "print(y)\n",
        "\n",
        "#Computing Derivative\n",
        "y.backward()\n",
        "#Display Gradients (Gradient is just another name for drivative)\n",
        "print('dy/dx:',x.grad)\n",
        "print('dy/dw:',w.grad)\n",
        "print('dy/db:',b.grad)"
      ],
      "metadata": {
        "colab": {
          "base_uri": "https://localhost:8080/"
        },
        "id": "m5gq2c9TnjL-",
        "outputId": "e3bb797d-8f0e-4e45-fd01-2de3d3b6ec0f"
      },
      "execution_count": 5,
      "outputs": [
        {
          "output_type": "stream",
          "name": "stdout",
          "text": [
            "tensor(17., grad_fn=<AddBackward0>)\n",
            "dy/dx: None\n",
            "dy/dw: tensor(3.)\n",
            "dy/db: tensor(1.)\n"
          ]
        }
      ]
    },
    {
      "cell_type": "code",
      "source": [
        "import numpy as np\n",
        "x=np.array([[1,2],[3,4.]])\n",
        "print(x)\n",
        "print(x.dtype)\n",
        "y=torch.from_numpy(x)\n",
        "print(y)\n",
        "print(y.dtype)\n",
        "z=y.numpy()\n",
        "print(z)"
      ],
      "metadata": {
        "colab": {
          "base_uri": "https://localhost:8080/"
        },
        "id": "KR8d5mE5pHe6",
        "outputId": "8c4331b9-0432-47ba-e8c6-56e04a9fb9b7"
      },
      "execution_count": 6,
      "outputs": [
        {
          "output_type": "stream",
          "name": "stdout",
          "text": [
            "[[1. 2.]\n",
            " [3. 4.]]\n",
            "float64\n",
            "tensor([[1., 2.],\n",
            "        [3., 4.]], dtype=torch.float64)\n",
            "torch.float64\n",
            "[[1. 2.]\n",
            " [3. 4.]]\n"
          ]
        }
      ]
    },
    {
      "cell_type": "code",
      "source": [
        "#Linear Regression - y=w.x+b\n",
        "#Where w is the weight and b is he bias\n",
        "#for our example the whole equation will look like ->\n",
        "#yield_apple  = w11 * temp + w12 * rainfall + w13 * humidity + b1\n",
        "#yield_orange = w21 * temp + w22 * rainfall + w23 * humidity + b2\n",
        "\n",
        "# Input (temp, rainfall, humidity)\n",
        "inputs = np.array([[73, 67, 43],\n",
        "                   [91, 88, 64],\n",
        "                   [87, 134, 58],\n",
        "                   [102, 43, 37],\n",
        "                   [69, 96, 70]], dtype='float32')\n",
        "\n",
        "# Targets (apples, oranges)\n",
        "targets = np.array([[56, 70],\n",
        "                    [81, 101],\n",
        "                    [119, 133],\n",
        "                    [22, 37],\n",
        "                    [103, 119]], dtype='float32')"
      ],
      "metadata": {
        "id": "4-y3u48RarbX"
      },
      "execution_count": 9,
      "outputs": []
    },
    {
      "cell_type": "code",
      "source": [
        "inputs=torch.from_numpy(inputs)\n",
        "targets=torch.from_numpy(targets)\n",
        "print(inputs)\n",
        "print(targets)"
      ],
      "metadata": {
        "colab": {
          "base_uri": "https://localhost:8080/"
        },
        "id": "xYVNI77twuuJ",
        "outputId": "3c489eee-15bf-43fc-882b-99f5fef79abc"
      },
      "execution_count": 17,
      "outputs": [
        {
          "output_type": "stream",
          "name": "stdout",
          "text": [
            "tensor([[ 73.,  67.,  43.],\n",
            "        [ 91.,  88.,  64.],\n",
            "        [ 87., 134.,  58.],\n",
            "        [102.,  43.,  37.],\n",
            "        [ 69.,  96.,  70.]])\n",
            "tensor([[ 56.,  70.],\n",
            "        [ 81., 101.],\n",
            "        [119., 133.],\n",
            "        [ 22.,  37.],\n",
            "        [103., 119.]])\n"
          ]
        }
      ]
    },
    {
      "cell_type": "code",
      "source": [
        "#Getting random values in a matrix of dimension 2,3 for the w values (this is ust to understand linear regression the real model requires proper w & b values)\n",
        "#Random values for 2 biases as well\n",
        "\n",
        "w=torch.randn(2,3,requires_grad=True)\n",
        "b=torch.randn(2,requires_grad=True)\n",
        "print(w)\n",
        "print(b)"
      ],
      "metadata": {
        "colab": {
          "base_uri": "https://localhost:8080/"
        },
        "id": "SzhFXG1pyM4o",
        "outputId": "b1d77871-0c0d-4f08-ef03-4a62a419ff2e"
      },
      "execution_count": 12,
      "outputs": [
        {
          "output_type": "stream",
          "name": "stdout",
          "text": [
            "tensor([[ 0.1075, -0.4134, -0.9570],\n",
            "        [-1.4586,  0.7379, -1.1585]], requires_grad=True)\n",
            "tensor([ 0.3973, -0.1031], requires_grad=True)\n"
          ]
        }
      ]
    },
    {
      "cell_type": "code",
      "source": [
        "#y=w.x+b\n",
        "# @-> Matrix multiplication\n",
        "# .t()->Transpose\n",
        "\n",
        "def model(x):\n",
        "    return x@w.t()+b"
      ],
      "metadata": {
        "id": "K5tubSc9zc-A"
      },
      "execution_count": 14,
      "outputs": []
    },
    {
      "cell_type": "code",
      "source": [
        "preds=model(inputs)\n",
        "print(preds)\n",
        "print(targets)\n",
        "\n",
        "#These are far off and that is because of the random w & b values"
      ],
      "metadata": {
        "id": "pHk5Z82L0LUG",
        "outputId": "6697a494-d2b1-4478-cf11-8df5955daa1e",
        "colab": {
          "base_uri": "https://localhost:8080/"
        }
      },
      "execution_count": 19,
      "outputs": [
        {
          "output_type": "stream",
          "name": "stdout",
          "text": [
            "tensor([[ -60.6013, -106.9563],\n",
            "        [ -87.4438, -142.0439],\n",
            "        [-101.1504,  -95.3148],\n",
            "        [ -41.8180, -160.0133],\n",
            "        [ -98.8592, -111.0034]], grad_fn=<AddBackward0>)\n",
            "tensor([[ 56.,  70.],\n",
            "        [ 81., 101.],\n",
            "        [119., 133.],\n",
            "        [ 22.,  37.],\n",
            "        [103., 119.]])\n"
          ]
        }
      ]
    },
    {
      "cell_type": "markdown",
      "source": [
        "**Loss function**\n",
        "\n",
        "Before we improve our model, we need a way to evaluate how well our model is performing. We can compare the model’s predictions with the actual targets, using the following method:\n",
        "* Calculate the difference between the two matrices (preds and targets).\n",
        "* Square all elements of the difference matrix to remove negative values.\n",
        "* Calculate the average of the elements in the resulting matrix.\n",
        "\n",
        "The result is a single number, known as the mean squared error (MSE).\n",
        "\n",
        "⸻\n"
      ],
      "metadata": {
        "id": "BV2NOnxE1VNm"
      }
    },
    {
      "cell_type": "markdown",
      "source": [],
      "metadata": {
        "id": "e2o40-S_1cfV"
      }
    },
    {
      "cell_type": "code",
      "source": [
        "def mse(t1,t2):\n",
        "    diff=t1-t2\n",
        "    return torch.sum(diff*diff)/diff.numel()\n",
        "\n",
        "#torch.sum() returs the sum of all the elements in the tensor\n",
        "#.numel() returns the number of elements in the tensor"
      ],
      "metadata": {
        "id": "5f9teNki1dxm"
      },
      "execution_count": 21,
      "outputs": []
    },
    {
      "cell_type": "code",
      "source": [
        "#Compute loss in our example\n",
        "loss=mse(preds,targets)\n",
        "print(loss)"
      ],
      "metadata": {
        "id": "5opD8YTr2tsA",
        "outputId": "190477d3-ca95-409e-a19a-d29824404cad",
        "colab": {
          "base_uri": "https://localhost:8080/"
        }
      },
      "execution_count": 22,
      "outputs": [
        {
          "output_type": "stream",
          "name": "stdout",
          "text": [
            "tensor(36948.2617, grad_fn=<DivBackward0>)\n"
          ]
        }
      ]
    },
    {
      "cell_type": "code",
      "source": [
        "loss.backward()"
      ],
      "metadata": {
        "id": "fccUp9-143bK"
      },
      "execution_count": 23,
      "outputs": []
    },
    {
      "cell_type": "code",
      "source": [
        "print(w)\n",
        "print(w.grad)"
      ],
      "metadata": {
        "id": "k60hyRUQ47RZ",
        "outputId": "3e3dc412-3aee-4657-e077-1cdb8128a70d",
        "colab": {
          "base_uri": "https://localhost:8080/"
        }
      },
      "execution_count": 24,
      "outputs": [
        {
          "output_type": "stream",
          "name": "stdout",
          "text": [
            "tensor([[ 0.1075, -0.4134, -0.9570],\n",
            "        [-1.4586,  0.7379, -1.1585]], requires_grad=True)\n",
            "tensor([[-12686.2168, -14851.6299,  -9010.8779],\n",
            "        [-18172.7598, -18878.0078, -11959.1865]])\n"
          ]
        }
      ]
    }
  ]
}