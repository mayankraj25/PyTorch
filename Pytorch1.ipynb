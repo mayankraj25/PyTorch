{
  "nbformat": 4,
  "nbformat_minor": 0,
  "metadata": {
    "colab": {
      "provenance": [],
      "authorship_tag": "ABX9TyOqeKnDf2IvgTYwxxWe2Je7",
      "include_colab_link": true
    },
    "kernelspec": {
      "name": "python3",
      "display_name": "Python 3"
    },
    "language_info": {
      "name": "python"
    }
  },
  "cells": [
    {
      "cell_type": "markdown",
      "metadata": {
        "id": "view-in-github",
        "colab_type": "text"
      },
      "source": [
        "<a href=\"https://colab.research.google.com/github/mayankraj25/PyTorch/blob/main/Pytorch1.ipynb\" target=\"_parent\"><img src=\"https://colab.research.google.com/assets/colab-badge.svg\" alt=\"Open In Colab\"/></a>"
      ]
    },
    {
      "cell_type": "code",
      "execution_count": 1,
      "metadata": {
        "id": "7YD3NEswjExI"
      },
      "outputs": [],
      "source": [
        "import torch"
      ]
    },
    {
      "cell_type": "code",
      "source": [
        "#Number(float)\n",
        "t1=torch.tensor(4.)\n",
        "print(t1)\n",
        "\n",
        "#Vector\n",
        "t2=torch.tensor([1.,2,3,4]) #Tensor just stors a single type of datatype hence all of it turns to float\n",
        "print(t2)\n",
        "\n",
        "#Matrix\n",
        "t3=torch.tensor([[5.,6],[7,8],[9,10]])\n",
        "print(t3)\n",
        "\n",
        "#3D Array\n",
        "t4=torch.tensor([[[11,12,13],[13,14,15]],[[15,16,17],[17,18,19]]])\n",
        "print(t4)"
      ],
      "metadata": {
        "colab": {
          "base_uri": "https://localhost:8080/"
        },
        "id": "zanTZNFyjjMH",
        "outputId": "c188960f-c656-4eda-bcf2-b9fa311bf238"
      },
      "execution_count": 5,
      "outputs": [
        {
          "output_type": "stream",
          "name": "stdout",
          "text": [
            "tensor(4.)\n",
            "tensor([1., 2., 3., 4.])\n",
            "tensor([[ 5.,  6.],\n",
            "        [ 7.,  8.],\n",
            "        [ 9., 10.]])\n",
            "tensor([[[11, 12, 13],\n",
            "         [13, 14, 15]],\n",
            "\n",
            "        [[15, 16, 17],\n",
            "         [17, 18, 19]]])\n"
          ]
        }
      ]
    },
    {
      "cell_type": "code",
      "source": [
        "print(t1.dtype)\n",
        "print(t2.dtype)\n",
        "print(t3.dtype)\n",
        "print(t4.dtype)"
      ],
      "metadata": {
        "colab": {
          "base_uri": "https://localhost:8080/"
        },
        "id": "4zdaYYSUmRaE",
        "outputId": "255c9059-324d-4ce0-d4d6-df4739fa9db5"
      },
      "execution_count": 6,
      "outputs": [
        {
          "output_type": "stream",
          "name": "stdout",
          "text": [
            "torch.float32\n",
            "torch.float32\n",
            "torch.float32\n",
            "torch.int64\n"
          ]
        }
      ]
    },
    {
      "cell_type": "code",
      "source": [
        "print(t1)\n",
        "print(t1.shape)\n",
        "print(t2)\n",
        "print(t2.shape)\n",
        "print(t3)\n",
        "print(t3.shape)\n",
        "print(t4)\n",
        "print(t4.shape)"
      ],
      "metadata": {
        "colab": {
          "base_uri": "https://localhost:8080/"
        },
        "id": "BmKwVmEgmVlV",
        "outputId": "cf1d7eb7-46ed-4402-befe-edf90f58fa22"
      },
      "execution_count": 8,
      "outputs": [
        {
          "output_type": "stream",
          "name": "stdout",
          "text": [
            "tensor(4.)\n",
            "torch.Size([])\n",
            "tensor([1., 2., 3., 4.])\n",
            "torch.Size([4])\n",
            "tensor([[ 5.,  6.],\n",
            "        [ 7.,  8.],\n",
            "        [ 9., 10.]])\n",
            "torch.Size([3, 2])\n",
            "tensor([[[11, 12, 13],\n",
            "         [13, 14, 15]],\n",
            "\n",
            "        [[15, 16, 17],\n",
            "         [17, 18, 19]]])\n",
            "torch.Size([2, 2, 3])\n"
          ]
        }
      ]
    },
    {
      "cell_type": "code",
      "source": [
        "#Create Tensors\n",
        "x=torch.tensor(3.)\n",
        "w=torch.tensor(4.,requires_grad=True)\n",
        "b=torch.tensor(5.,requires_grad=True)\n",
        "\n",
        "#Arithematic operation\n",
        "y=w*x+b\n",
        "print(y)\n",
        "\n",
        "#Computing Derivative\n",
        "y.backward()\n",
        "#Display Gradients (Gradient is just another name for drivative)\n",
        "print('dy/dx:',x.grad)\n",
        "print('dy/dw:',w.grad)\n",
        "print('dy/db:',b.grad)"
      ],
      "metadata": {
        "colab": {
          "base_uri": "https://localhost:8080/"
        },
        "id": "m5gq2c9TnjL-",
        "outputId": "0fb5eff5-59fe-49d7-faeb-5e1003e94e63"
      },
      "execution_count": 9,
      "outputs": [
        {
          "output_type": "stream",
          "name": "stdout",
          "text": [
            "tensor(17., grad_fn=<AddBackward0>)\n",
            "dy/dx: None\n",
            "dy/dw: tensor(3.)\n",
            "dy/db: tensor(1.)\n"
          ]
        }
      ]
    },
    {
      "cell_type": "code",
      "source": [
        "import numpy as np\n",
        "x=np.array([[1,2],[3,4.]])\n",
        "print(x)\n",
        "print(x.dtype)\n",
        "y=torch.from_numpy(x)\n",
        "print(y)\n",
        "print(y.dtype)\n",
        "z=y.numpy()\n",
        "print(z)"
      ],
      "metadata": {
        "colab": {
          "base_uri": "https://localhost:8080/"
        },
        "id": "KR8d5mE5pHe6",
        "outputId": "2a1edde7-52e6-4b6f-968e-25b5fbbce95b"
      },
      "execution_count": 11,
      "outputs": [
        {
          "output_type": "stream",
          "name": "stdout",
          "text": [
            "[[1. 2.]\n",
            " [3. 4.]]\n",
            "float64\n",
            "tensor([[1., 2.],\n",
            "        [3., 4.]], dtype=torch.float64)\n",
            "torch.float64\n",
            "[[1. 2.]\n",
            " [3. 4.]]\n"
          ]
        }
      ]
    },
    {
      "cell_type": "code",
      "source": [],
      "metadata": {
        "id": "4-y3u48RarbX"
      },
      "execution_count": null,
      "outputs": []
    }
  ]
}